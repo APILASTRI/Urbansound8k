{
  "nbformat": 4,
  "nbformat_minor": 0,
  "metadata": {
    "accelerator": "GPU",
    "colab": {
      "name": "Model_MFCC.ipynb",
      "version": "0.3.2",
      "provenance": []
    },
    "kernelspec": {
      "name": "python3",
      "display_name": "Python 3"
    },
    "language_info": {
      "codemirror_mode": {
        "name": "ipython",
        "version": 3
      },
      "file_extension": ".py",
      "mimetype": "text/x-python",
      "name": "python",
      "nbconvert_exporter": "python",
      "pygments_lexer": "ipython3",
      "version": "3.7.3"
    }
  },
  "cells": [
    {
      "cell_type": "markdown",
      "metadata": {
        "id": "Tr1a9B6pmgfv",
        "colab_type": "text"
      },
      "source": [
        "### Uploading File on Google.Colab"
      ]
    },
    {
      "cell_type": "code",
      "metadata": {
        "colab_type": "code",
        "id": "GZPj0dnxCFrF",
        "outputId": "448e3749-9b31-40d4-b3aa-4ba40b7bba84",
        "colab": {
          "base_uri": "https://localhost:8080/",
          "height": 124
        }
      },
      "source": [
        "from google.colab import drive\n",
        "drive.mount(\"/content/drive\")\n"
      ],
      "execution_count": 1,
      "outputs": [
        {
          "output_type": "stream",
          "text": [
            "Go to this URL in a browser: https://accounts.google.com/o/oauth2/auth?client_id=947318989803-6bn6qk8qdgf4n4g3pfee6491hc0brc4i.apps.googleusercontent.com&redirect_uri=urn%3Aietf%3Awg%3Aoauth%3A2.0%3Aoob&scope=email%20https%3A%2F%2Fwww.googleapis.com%2Fauth%2Fdocs.test%20https%3A%2F%2Fwww.googleapis.com%2Fauth%2Fdrive%20https%3A%2F%2Fwww.googleapis.com%2Fauth%2Fdrive.photos.readonly%20https%3A%2F%2Fwww.googleapis.com%2Fauth%2Fpeopleapi.readonly&response_type=code\n",
            "\n",
            "Enter your authorization code:\n",
            "··········\n",
            "Mounted at /content/drive\n"
          ],
          "name": "stdout"
        }
      ]
    },
    {
      "cell_type": "code",
      "metadata": {
        "id": "G4gBiIEUm8cG",
        "colab_type": "code",
        "colab": {
          "base_uri": "https://localhost:8080/",
          "height": 34
        },
        "outputId": "05568c41-1dc1-44c7-e573-6a0210e3d4c7"
      },
      "source": [
        "cd /content/drive/My Drive"
      ],
      "execution_count": 5,
      "outputs": [
        {
          "output_type": "stream",
          "text": [
            "/content/drive/My Drive\n"
          ],
          "name": "stdout"
        }
      ]
    },
    {
      "cell_type": "markdown",
      "metadata": {
        "id": "fhsl2SrcmggK",
        "colab_type": "text"
      },
      "source": [
        "## Applying CNN on Feature Extracted\n",
        "\n",
        "#### Data Preproccessing"
      ]
    },
    {
      "cell_type": "code",
      "metadata": {
        "colab_type": "code",
        "id": "6NRi1C84C2DQ",
        "colab": {}
      },
      "source": [
        "import numpy as np\n",
        "import pandas as pd\n",
        "import seaborn as sns\n",
        "from matplotlib import pyplot as plt\n",
        "from sklearn.preprocessing import LabelEncoder\n",
        "from sklearn.preprocessing import StandardScaler\n",
        "\n",
        "std = StandardScaler()\n",
        "\n",
        "\n",
        "data = pd.DataFrame(np.load(\"dataset.npy\",allow_pickle= True))\n",
        "data.columns = ['feature', 'label']\n",
        "X = np.array(data.feature.tolist())\n",
        "std.fit(X)\n",
        "Y = np.array(data.label.tolist())\n"
      ],
      "execution_count": 0,
      "outputs": []
    },
    {
      "cell_type": "markdown",
      "metadata": {
        "id": "4dg-XwYCr-ou",
        "colab_type": "text"
      },
      "source": [
        "**Ploting Distribution of Data Set**"
      ]
    },
    {
      "cell_type": "code",
      "metadata": {
        "id": "Tumw1DhgqsNs",
        "colab_type": "code",
        "colab": {
          "base_uri": "https://localhost:8080/",
          "height": 305
        },
        "outputId": "ee3050e0-6a9d-4ead-ab7a-0ba5274f296c"
      },
      "source": [
        "%matplotlib inline\n",
        "plt.hist(Y, bins = 20);\n",
        "print(np.unique(Y))"
      ],
      "execution_count": 209,
      "outputs": [
        {
          "output_type": "stream",
          "text": [
            "['air_conditioner' 'car_horn' 'children_playing' 'dog_bark' 'drilling'\n",
            " 'engine_idling' 'gun_shot' 'jackhammer' 'siren' 'street_music']\n"
          ],
          "name": "stdout"
        },
        {
          "output_type": "display_data",
          "data": {
            "image/png": "[encoded data removed]",
            "text/plain": [
              "<Figure size 432x288 with 1 Axes>"
            ]
          },
          "metadata": {
            "tags": []
          }
        }
      ]
    },
    {
      "cell_type": "code",
      "metadata": {
        "id": "iN13JJGwz7id",
        "colab_type": "code",
        "colab": {
          "base_uri": "https://localhost:8080/",
          "height": 34
        },
        "outputId": "e883d65f-c5f0-4014-b2f6-6c99d4f7ec12"
      },
      "source": [
        "X.shape,Y.shape,X[0].reshape(1,X[0].shape[0]).shape"
      ],
      "execution_count": 210,
      "outputs": [
        {
          "output_type": "execute_result",
          "data": {
            "text/plain": [
              "((8732, 40), (8732,), (1, 40))"
            ]
          },
          "metadata": {
            "tags": []
          },
          "execution_count": 210
        }
      ]
    },
    {
      "cell_type": "code",
      "metadata": {
        "id": "-AfmgWk8zqgM",
        "colab_type": "code",
        "colab": {}
      },
      "source": [
        "from sklearn.model_selection import train_test_split\n",
        "X,val_x,y,val_y = train_test_split(X,Y,test_size=0.3)\n",
        "lb = LabelEncoder()\n",
        "\n",
        "from keras.utils import np_utils\n",
        "\n",
        "y_en = np_utils.to_categorical(lb.fit_transform(y))\n",
        "val_y_en = np_utils.to_categorical(lb.fit_transform(val_y))"
      ],
      "execution_count": 0,
      "outputs": []
    },
    {
      "cell_type": "code",
      "metadata": {
        "id": "0WcVU3JJqcb5",
        "colab_type": "code",
        "colab": {}
      },
      "source": [
        "def acc(y_test,prediction):\n",
        "\n",
        "    ### PRINTING ACCURACY OF PREDICTION\n",
        "    ### RECALL\n",
        "    ### PRECISION\n",
        "    ### CLASIFICATION REPORT\n",
        "    ### CONFUSION MATRIX\n",
        "    cm = confusion_matrix(y_test, prediction)\n",
        "    recall = np.diag(cm) / np.sum(cm, axis = 1)\n",
        "    precision = np.diag(cm) / np.sum(cm, axis = 0)\n",
        "    \n",
        "    print ('Recall:', recall)\n",
        "    print ('Precision:', precision)\n",
        "    print ('\\n clasification report:\\n', classification_report(y_test,prediction))\n",
        "    print ('\\n confussion matrix:\\n',confusion_matrix(y_test, prediction))\n",
        "    \n",
        "    ax = sns.heatmap(confusion_matrix(y_test, prediction),linewidths= 0.5,cmap=\"YlGnBu\")"
      ],
      "execution_count": 0,
      "outputs": []
    },
    {
      "cell_type": "markdown",
      "metadata": {
        "id": "oPcdhRyJmggU",
        "colab_type": "text"
      },
      "source": [
        "#### Model Structure\n"
      ]
    },
    {
      "cell_type": "code",
      "metadata": {
        "colab_type": "code",
        "id": "HYeTNd3Jcepb",
        "colab": {}
      },
      "source": [
        "import numpy as np\n",
        "from keras.models import Sequential\n",
        "from keras.layers import Dense, Dropout, Activation, Flatten\n",
        "from keras.layers import Convolution2D, MaxPooling2D\n",
        "from keras.optimizers import Adam\n",
        "from keras.utils import np_utils\n",
        "from sklearn import metrics \n",
        "from sklearn.metrics import precision_score, recall_score, confusion_matrix, classification_report, accuracy_score, f1_score\n",
        "from keras.callbacks import LearningRateScheduler\n",
        "\n",
        "\n",
        "\n",
        "num_labels = y_en.shape[1]\n",
        "nets = 5\n",
        "\n",
        "model = [0] *nets\n",
        "\n",
        "# build model\n",
        "for net in range(nets):\n",
        "  model[net] = Sequential()\n",
        "\n",
        "\n",
        "  model[net].add(Dense(512, input_shape=(40,)))\n",
        "  model[net].add(Activation('relu'))\n",
        "  model[net].add(Dropout(0.45))\n",
        "\n",
        "\n",
        "  model[net].add(Dense(256))\n",
        "  model[net].add(Activation('relu'))\n",
        "  model[net].add(Dropout(0.45))\n",
        "\n",
        "\n",
        "  model[net].add(Dense(num_labels))\n",
        "  model[net].add(Activation('softmax'))\n",
        "\n",
        "\n",
        "\n",
        "  model[net].compile(loss='categorical_crossentropy', metrics=['accuracy'], optimizer='RMSprop')"
      ],
      "execution_count": 0,
      "outputs": []
    },
    {
      "cell_type": "code",
      "metadata": {
        "id": "z9IQhRkMmggh",
        "colab_type": "code",
        "colab": {
          "base_uri": "https://localhost:8080/",
          "height": 416
        },
        "outputId": "4b64659d-747b-45d7-8209-384394f603a3"
      },
      "source": [
        "model[-1].summary()"
      ],
      "execution_count": 229,
      "outputs": [
        {
          "output_type": "stream",
          "text": [
            "_________________________________________________________________\n",
            "Layer (type)                 Output Shape              Param #   \n",
            "=================================================================\n",
            "dense_424 (Dense)            (None, 512)               20992     \n",
            "_________________________________________________________________\n",
            "activation_424 (Activation)  (None, 512)               0         \n",
            "_________________________________________________________________\n",
            "dropout_295 (Dropout)        (None, 512)               0         \n",
            "_________________________________________________________________\n",
            "dense_425 (Dense)            (None, 256)               131328    \n",
            "_________________________________________________________________\n",
            "activation_425 (Activation)  (None, 256)               0         \n",
            "_________________________________________________________________\n",
            "dropout_296 (Dropout)        (None, 256)               0         \n",
            "_________________________________________________________________\n",
            "dense_426 (Dense)            (None, 10)                2570      \n",
            "_________________________________________________________________\n",
            "activation_426 (Activation)  (None, 10)                0         \n",
            "=================================================================\n",
            "Total params: 154,890\n",
            "Trainable params: 154,890\n",
            "Non-trainable params: 0\n",
            "_________________________________________________________________\n"
          ],
          "name": "stdout"
        }
      ]
    },
    {
      "cell_type": "code",
      "metadata": {
        "colab_type": "code",
        "id": "EixAes_Hcl-A",
        "outputId": "ae8503a2-9520-41e0-ffd2-c0b4ce49425a",
        "colab": {
          "base_uri": "https://localhost:8080/",
          "height": 104
        }
      },
      "source": [
        "\n",
        "\n",
        "\n",
        "# TRAIN NETWORKS\n",
        "history = [0] * nets\n",
        "epochs = 132\n",
        "for j in range(nets):\n",
        "    X_train2, X_val2, Y_train2, Y_val2 = X,val_x, y_en, val_y_en\n",
        "    history[j] = model[j].fit(X,Y_train2, batch_size=256,\n",
        "        epochs = epochs,   \n",
        "        validation_data = (X_val2,Y_val2),  verbose=0)\n",
        "    print(\"CNN {0:d}: Epochs={1:d}, Train accuracy={2:.5f}, Validation accuracy={3:.5f}\".format(\n",
        "        j+1,epochs,max(history[j].history['acc']),max(history[j].history['val_acc']) ))\n",
        "\n"
      ],
      "execution_count": 231,
      "outputs": [
        {
          "output_type": "stream",
          "text": [
            "CNN 1: Epochs=132, Train accuracy=0.92539, Validation accuracy=0.91527\n",
            "CNN 2: Epochs=132, Train accuracy=0.93063, Validation accuracy=0.91527\n",
            "CNN 3: Epochs=132, Train accuracy=0.92490, Validation accuracy=0.91794\n",
            "CNN 4: Epochs=132, Train accuracy=0.92736, Validation accuracy=0.92214\n",
            "CNN 5: Epochs=132, Train accuracy=0.92408, Validation accuracy=0.91947\n"
          ],
          "name": "stdout"
        }
      ]
    },
    {
      "cell_type": "code",
      "metadata": {
        "colab_type": "code",
        "id": "CimDBPi7Xldp",
        "colab": {
          "base_uri": "https://localhost:8080/",
          "height": 718
        },
        "outputId": "1aa74623-6c99-41f9-ec66-055abeddc5f2"
      },
      "source": [
        "net = -1\n",
        "name_title = ['Loss','Accuracy']\n",
        "fig=plt.figure(figsize=(64,64))\n",
        "for i in range(0,2):\n",
        "    ax=fig.add_subplot(8,8,i+1)\n",
        "    plt.plot(history[net].history[list(history[net].history.keys())[i]], label = list(history[net].history.keys())[i] )\n",
        "    plt.plot(history[net].history[list(history[net].history.keys())[i+2]],label = list(history[net].history.keys())[i+2] )\n",
        "    plt.xlabel('Epochs', fontsize=18)\n",
        "    plt.ylabel(name_title[i], fontsize=18)\n",
        "    plt.legend()\n",
        "    plt.show()"
      ],
      "execution_count": 232,
      "outputs": [
        {
          "output_type": "display_data",
          "data": {
            "image/png": "[encoded data removed]",
            "text/plain": [
              "<Figure size 4608x4608 with 1 Axes>"
            ]
          },
          "metadata": {
            "tags": []
          }
        },
        {
          "output_type": "display_data",
          "data": {
            "image/png": "[encoded data removed]",
            "text/plain": [
              "<Figure size 432x288 with 1 Axes>"
            ]
          },
          "metadata": {
            "tags": []
          }
        }
      ]
    },
    {
      "cell_type": "code",
      "metadata": {
        "id": "IzYKs0ar44vp",
        "colab_type": "code",
        "colab": {
          "base_uri": "https://localhost:8080/",
          "height": 877
        },
        "outputId": "14e82e32-913c-4649-d3da-c09c5afc95d2"
      },
      "source": [
        "results = np.zeros( (val_x.shape[0],10) ) \n",
        "for j in range(nets):\n",
        "  results = results  + model[j].predict(val_x)\n",
        "results = np.argmax(results,axis = 1)\n",
        "val_y_n = np.argmax(val_y_en,axis =1)\n",
        "acc(val_y_n,results)"
      ],
      "execution_count": 233,
      "outputs": [
        {
          "output_type": "stream",
          "text": [
            "Recall: [0.97697368 0.92307692 0.91467577 0.83501684 0.93831169 0.97333333\n",
            " 0.85483871 0.97526502 0.95255474 0.85034014]\n",
            "Precision: [0.95806452 0.95652174 0.80722892 0.91176471 0.96655518 0.92993631\n",
            " 0.9137931  0.95172414 0.95255474 0.90909091]\n",
            "\n",
            " clasification report:\n",
            "               precision    recall  f1-score   support\n",
            "\n",
            "           0       0.96      0.98      0.97       304\n",
            "           1       0.96      0.92      0.94       143\n",
            "           2       0.81      0.91      0.86       293\n",
            "           3       0.91      0.84      0.87       297\n",
            "           4       0.97      0.94      0.95       308\n",
            "           5       0.93      0.97      0.95       300\n",
            "           6       0.91      0.85      0.88       124\n",
            "           7       0.95      0.98      0.96       283\n",
            "           8       0.95      0.95      0.95       274\n",
            "           9       0.91      0.85      0.88       294\n",
            "\n",
            "    accuracy                           0.92      2620\n",
            "   macro avg       0.93      0.92      0.92      2620\n",
            "weighted avg       0.92      0.92      0.92      2620\n",
            "\n",
            "\n",
            " confussion matrix:\n",
            " [[297   0   2   0   0   0   1   1   1   2]\n",
            " [  0 132   0   5   1   0   0   1   2   2]\n",
            " [  3   2 268   4   0   3   5   0   1   7]\n",
            " [  2   3  18 248   4   7   4   0   4   7]\n",
            " [  1   0   6   2 289   0   0   9   0   1]\n",
            " [  0   0   7   0   0 292   0   0   0   1]\n",
            " [  0   1   6   5   0   1 106   1   2   2]\n",
            " [  0   0   0   0   4   1   0 276   0   2]\n",
            " [  0   0   8   2   0   2   0   0 261   1]\n",
            " [  7   0  17   6   1   8   0   2   3 250]]\n"
          ],
          "name": "stdout"
        },
        {
          "output_type": "display_data",
          "data": {
            "image/png": "[encoded data removed]",
            "text/plain": [
              "<Figure size 432x288 with 2 Axes>"
            ]
          },
          "metadata": {
            "tags": []
          }
        }
      ]
    },
    {
      "cell_type": "markdown",
      "metadata": {
        "colab_type": "text",
        "id": "m8M_7fEdXm10"
      },
      "source": [
        "## **Implementing XGBOOST Algorithm on same Dataset**"
      ]
    },
    {
      "cell_type": "code",
      "metadata": {
        "id": "Js9E123sKekZ",
        "colab_type": "code",
        "colab": {}
      },
      "source": [
        "from xgboost import XGBClassifier"
      ],
      "execution_count": 0,
      "outputs": []
    },
    {
      "cell_type": "code",
      "metadata": {
        "colab_type": "code",
        "id": "RZkY89khHeF6",
        "colab": {}
      },
      "source": [
        "train = np.argmax(y_en,axis =  1)\n",
        "test = np.argmax(val_y_en,axis =  1)\n",
        "test_x = val_x"
      ],
      "execution_count": 0,
      "outputs": []
    },
    {
      "cell_type": "code",
      "metadata": {
        "colab_type": "code",
        "id": "BbPVx1WcTY_J",
        "colab": {}
      },
      "source": [
        "model_xgb = XGBClassifier(learning_rate =0.1, \n",
        "                      n_estimators=400, \n",
        "                      max_depth=8,\n",
        "                      objective= 'multi:softmax', \n",
        "                      nthread=4, )\n"
      ],
      "execution_count": 0,
      "outputs": []
    },
    {
      "cell_type": "code",
      "metadata": {
        "colab_type": "code",
        "id": "W87KEg2JWJrA",
        "outputId": "a4ef3561-34be-425a-b96d-a656d8162b86",
        "colab": {
          "base_uri": "https://localhost:8080/",
          "height": 139
        }
      },
      "source": [
        "model_xgb.fit(X,train)"
      ],
      "execution_count": 222,
      "outputs": [
        {
          "output_type": "execute_result",
          "data": {
            "text/plain": [
              "XGBClassifier(base_score=0.5, booster='gbtree', colsample_bylevel=1,\n",
              "              colsample_bynode=1, colsample_bytree=1, gamma=0,\n",
              "              learning_rate=0.1, max_delta_step=0, max_depth=8,\n",
              "              min_child_weight=1, missing=None, n_estimators=400, n_jobs=1,\n",
              "              nthread=4, objective='multi:softprob', random_state=0,\n",
              "              reg_alpha=0, reg_lambda=1, scale_pos_weight=1, seed=None,\n",
              "              silent=None, subsample=1, verbosity=1)"
            ]
          },
          "metadata": {
            "tags": []
          },
          "execution_count": 222
        }
      ]
    },
    {
      "cell_type": "code",
      "metadata": {
        "colab_type": "code",
        "id": "aFOGDEl8WOOl",
        "colab": {}
      },
      "source": [
        "pred = model_xgb.predict(test_x)"
      ],
      "execution_count": 0,
      "outputs": []
    },
    {
      "cell_type": "code",
      "metadata": {
        "colab_type": "code",
        "id": "Aikv-HFZXfYU",
        "colab": {
          "base_uri": "https://localhost:8080/",
          "height": 877
        },
        "outputId": "4d2c3a8d-36a3-4f2e-ebba-d33e47d5c125"
      },
      "source": [
        "acc(test,pred)"
      ],
      "execution_count": 224,
      "outputs": [
        {
          "output_type": "stream",
          "text": [
            "Recall: [0.95394737 0.85314685 0.86006826 0.7979798  0.88636364 0.94666667\n",
            " 0.79032258 0.96466431 0.91970803 0.84353741]\n",
            "Precision: [0.95394737 0.93846154 0.7826087  0.86181818 0.90397351 0.92508143\n",
            " 0.96078431 0.90397351 0.94382022 0.802589  ]\n",
            "\n",
            " clasification report:\n",
            "               precision    recall  f1-score   support\n",
            "\n",
            "           0       0.95      0.95      0.95       304\n",
            "           1       0.94      0.85      0.89       143\n",
            "           2       0.78      0.86      0.82       293\n",
            "           3       0.86      0.80      0.83       297\n",
            "           4       0.90      0.89      0.90       308\n",
            "           5       0.93      0.95      0.94       300\n",
            "           6       0.96      0.79      0.87       124\n",
            "           7       0.90      0.96      0.93       283\n",
            "           8       0.94      0.92      0.93       274\n",
            "           9       0.80      0.84      0.82       294\n",
            "\n",
            "    accuracy                           0.89      2620\n",
            "   macro avg       0.90      0.88      0.89      2620\n",
            "weighted avg       0.89      0.89      0.89      2620\n",
            "\n",
            "\n",
            " confussion matrix:\n",
            " [[290   0   2   0   1   1   0   4   0   6]\n",
            " [  0 122   2   1   5   5   0   2   2   4]\n",
            " [  1   3 252   5   4   3   2   5   2  16]\n",
            " [  5   2  23 237   5   4   1   1   4  15]\n",
            " [  1   0   6   5 273   0   0  12   1  10]\n",
            " [  1   1   4   0   2 284   0   1   3   4]\n",
            " [  0   0   9  10   2   1  98   1   0   3]\n",
            " [  1   0   2   0   4   0   0 273   0   3]\n",
            " [  0   1   7   6   0   6   1   1 252   0]\n",
            " [  5   1  15  11   6   3   0   2   3 248]]\n"
          ],
          "name": "stdout"
        },
        {
          "output_type": "display_data",
          "data": {
            "image/png": "[encoded data removed]",
            "text/plain": [
              "<Figure size 432x288 with 2 Axes>"
            ]
          },
          "metadata": {
            "tags": []
          }
        }
      ]
    },
    {
      "cell_type": "code",
      "metadata": {
        "colab_type": "code",
        "id": "fPBB7VWQiE5i",
        "colab": {
          "base_uri": "https://localhost:8080/",
          "height": 877
        },
        "outputId": "7963bc42-3757-44d3-9764-edf276e50ac0"
      },
      "source": [
        "results = np.zeros( (val_x.shape[0],10) ) \n",
        "for j in range(nets):\n",
        "  results = results  + model[j].predict_proba(val_x) + model_xgb.predict_proba(val_x)\n",
        "results = np.argmax(results,axis = 1)\n",
        "acc(test,results)"
      ],
      "execution_count": 225,
      "outputs": [
        {
          "output_type": "stream",
          "text": [
            "Recall: [0.97368421 0.9020979  0.92150171 0.84848485 0.92857143 0.95666667\n",
            " 0.82258065 0.97526502 0.95620438 0.8707483 ]\n",
            "Precision: [0.96732026 0.97727273 0.81570997 0.90322581 0.94701987 0.94098361\n",
            " 0.97142857 0.93877551 0.95970696 0.87372014]\n",
            "\n",
            " clasification report:\n",
            "               precision    recall  f1-score   support\n",
            "\n",
            "           0       0.97      0.97      0.97       304\n",
            "           1       0.98      0.90      0.94       143\n",
            "           2       0.82      0.92      0.87       293\n",
            "           3       0.90      0.85      0.88       297\n",
            "           4       0.95      0.93      0.94       308\n",
            "           5       0.94      0.96      0.95       300\n",
            "           6       0.97      0.82      0.89       124\n",
            "           7       0.94      0.98      0.96       283\n",
            "           8       0.96      0.96      0.96       274\n",
            "           9       0.87      0.87      0.87       294\n",
            "\n",
            "    accuracy                           0.92      2620\n",
            "   macro avg       0.93      0.92      0.92      2620\n",
            "weighted avg       0.92      0.92      0.92      2620\n",
            "\n",
            "\n",
            " confussion matrix:\n",
            " [[296   0   1   0   1   1   0   1   0   4]\n",
            " [  0 129   1   3   1   1   0   2   2   4]\n",
            " [  2   1 270   2   1   2   1   1   1  12]\n",
            " [  2   1  20 252   4   6   2   0   3   7]\n",
            " [  1   0   4   3 286   0   0  11   0   3]\n",
            " [  0   1   6   0   1 287   0   0   3   2]\n",
            " [  1   0   9   7   1   0 102   1   0   3]\n",
            " [  0   0   1   0   4   0   0 276   0   2]\n",
            " [  0   0   5   3   0   3   0   1 262   0]\n",
            " [  4   0  14   9   3   5   0   1   2 256]]\n"
          ],
          "name": "stdout"
        },
        {
          "output_type": "display_data",
          "data": {
            "image/png": "[encoded data removed]",
            "text/plain": [
              "<Figure size 432x288 with 2 Axes>"
            ]
          },
          "metadata": {
            "tags": []
          }
        }
      ]
    },
    {
      "cell_type": "code",
      "metadata": {
        "id": "qK7dYcWaJWP1",
        "colab_type": "code",
        "colab": {
          "base_uri": "https://localhost:8080/",
          "height": 877
        },
        "outputId": "0f60985e-f1bc-4730-bac0-1f23f0d30d7c"
      },
      "source": [
        "results = np.zeros( (val_x.shape[0],10) ) \n",
        "for j in range(nets):\n",
        "  results = results  + model[j].predict_proba(val_x) + nets*model_xgb.predict_proba(val_x)\n",
        "results = np.argmax(results,axis = 1)\n",
        "acc(test,results)"
      ],
      "execution_count": 227,
      "outputs": [
        {
          "output_type": "stream",
          "text": [
            "Recall: [0.95394737 0.88111888 0.87372014 0.80808081 0.8961039  0.94666667\n",
            " 0.79032258 0.97173145 0.91970803 0.86054422]\n",
            "Precision: [0.96345515 0.94736842 0.79012346 0.86330935 0.91390728 0.93114754\n",
            " 0.97029703 0.90460526 0.9509434  0.82410423]\n",
            "\n",
            " clasification report:\n",
            "               precision    recall  f1-score   support\n",
            "\n",
            "           0       0.96      0.95      0.96       304\n",
            "           1       0.95      0.88      0.91       143\n",
            "           2       0.79      0.87      0.83       293\n",
            "           3       0.86      0.81      0.83       297\n",
            "           4       0.91      0.90      0.90       308\n",
            "           5       0.93      0.95      0.94       300\n",
            "           6       0.97      0.79      0.87       124\n",
            "           7       0.90      0.97      0.94       283\n",
            "           8       0.95      0.92      0.94       274\n",
            "           9       0.82      0.86      0.84       294\n",
            "\n",
            "    accuracy                           0.90      2620\n",
            "   macro avg       0.91      0.89      0.90      2620\n",
            "weighted avg       0.90      0.90      0.90      2620\n",
            "\n",
            "\n",
            " confussion matrix:\n",
            " [[290   0   2   0   1   1   0   4   0   6]\n",
            " [  0 126   2   2   3   2   0   2   2   4]\n",
            " [  1   3 256   5   4   3   1   4   1  15]\n",
            " [  4   2  23 240   5   4   1   1   3  14]\n",
            " [  1   0   6   5 276   0   0  13   1   6]\n",
            " [  1   1   4   0   2 284   0   1   3   4]\n",
            " [  0   0  10   9   2   1  98   1   0   3]\n",
            " [  0   0   1   0   5   0   0 275   0   2]\n",
            " [  0   1   7   6   0   6   1   1 252   0]\n",
            " [  4   0  13  11   4   4   0   2   3 253]]\n"
          ],
          "name": "stdout"
        },
        {
          "output_type": "display_data",
          "data": {
            "image/png": "[encoded data removed]",
            "text/plain": [
              "<Figure size 432x288 with 2 Axes>"
            ]
          },
          "metadata": {
            "tags": []
          }
        }
      ]
    },
    {
      "cell_type": "code",
      "metadata": {
        "id": "l_m61yzgJbzr",
        "colab_type": "code",
        "colab": {}
      },
      "source": [
        ""
      ],
      "execution_count": 0,
      "outputs": []
    }
  ]
}